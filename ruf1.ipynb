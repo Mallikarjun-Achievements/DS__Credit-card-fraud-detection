{
 "cells": [
  {
   "cell_type": "markdown",
   "id": "3ba8c346",
   "metadata": {},
   "source": [
    "# Learning Report\n",
    "- what I learned ?\n",
    "- List of Topics\n",
    "- List of Keywords\n",
    "- Interests\n",
    "- Real world Relevace\n",
    "- Project Goal\n",
    "- Project Statement in english\n",
    "\n",
    "__AT very basic level :__\n",
    "- List of Topics \n",
    "- List of Technologies\n",
    "- List of Concepts\n",
    "- Data Set Discription\n",
    "- Feature Discription\n",
    "- Data Science Worflow\n",
    "- Majour Section of the project"
   ]
  },
  {
   "cell_type": "markdown",
   "id": "72d174ec",
   "metadata": {},
   "source": [
    "# Where I want to write\n",
    "- which file name?\n",
    "    1. .Ipynb\n",
    "    2. .md --> .html --> Home page Introduction [DONE] --> \"README.md\"\n",
    "    \n",
    "\n",
    "Home Page , Seperate Folder , \n",
    "\n",
    "\n",
    "When dealing with bulk learning >>>\n",
    "\n",
    "mostly single top folder , no sub directories"
   ]
  },
  {
   "cell_type": "markdown",
   "id": "47614254",
   "metadata": {},
   "source": [
    "README.md File :"
   ]
  },
  {
   "cell_type": "markdown",
   "id": "be3d4da7",
   "metadata": {},
   "source": [
    "# Short_Project_2\n",
    "\n",
    "# \"Credit card Fraud Detection\"\n",
    "\n",
    "### Goal of the project :\n",
    "To classify the given record of information Fraud or not. 0 representing the Not-Fraud , 1 representing fraud. \n",
    "\n",
    "### Number of possible ways to solve the given problem (Task : Binary Classification)\n",
    "- Random Forest Classifier\n",
    "- Logistic Regression\n",
    "- Support Vector Machines\n",
    "- Kernel SVM\n",
    "- Naive Bayes\n",
    "- Decision Tree Classification\n",
    "\n",
    "The Methods used for this project are __Logistic Regression__ , __Random Forest Classifier__\n",
    "\n",
    "\n",
    "### Dataset From Kaggle : \n",
    "- https://www.kaggle.com/datasets/mlg-ulb/creditcardfraud\n",
    "\n",
    "\n",
    "### Files Description\n",
    "Total : 4 files\n",
    "- 1_model_development.ipynb \n",
    "    - Starting file and the only file that contains the main code\n",
    "- ruf1.ipynb\n",
    "    - contains just ruf work.\n",
    "- model_LogisticRegression-Credit-card-fraud-detection.pkl\n",
    "    - Logistic Regression Model stored on disc in pickle format\n",
    "- model_RandomForest-Credit-card-fraud-detection.pkl\n",
    "    - Random Forest Classifier model stored on disc in pickle format\n",
    "\n",
    "---\n",
    "### Technologies used :\n",
    "- Pandas\n",
    "- Matplotlib\n",
    "- sklearn\n",
    "- seaborn\n",
    "- missingno\n",
    "- warnings\n",
    "\n",
    "### Sklearn :\n",
    "- train_test_split\n",
    "```python\n",
    "from sklearn.model_selection import train_test_split\n",
    "```\n",
    "\n",
    "- StandardScalar\n",
    "```python\n",
    "from sklearn.preprocessing import StandardScaler\n",
    "```\n",
    "\n",
    "- LogisticRegression\n",
    "```python\n",
    "from sklearn.linear_model import LogisticRegression\n",
    "```\n",
    "\n",
    "- RandomForestClassifier\n",
    "```python\n",
    "from sklearn.ensemble import RandomForestClassifier\n",
    "```\n",
    "    \n",
    "- accuracy_score , confusion_matrix , classification_report\n",
    "```python\n",
    "from sklearn.metrics import accuracy_score, confusion_matrix, classification_report\n",
    "```\n",
    "\n",
    "### Topics :\n",
    "- Feature Scaline , Standardization \n",
    "- Random Forest Machine Learning Algorithm \n",
    "- Logistic Regression , Binary Classification\n",
    "- Tabular data\n",
    "- Evaluation Metrics , Confussion Matrix , accuracy\n",
    "- Precision , Recall , F1-score , support\n",
    "- Data Visualization , Count-Plot , Heat-Map\n",
    "- Correlation Matrix"
   ]
  },
  {
   "cell_type": "markdown",
   "id": "8c7f4fd4",
   "metadata": {},
   "source": [
    "# ======================================================"
   ]
  },
  {
   "cell_type": "markdown",
   "id": "2f9060ad",
   "metadata": {},
   "source": [
    "Upload to git hub\n",
    "> Data_Science_Project_2---Credit_Card_Fraud_Detection\n",
    "\n",
    "> private"
   ]
  },
  {
   "cell_type": "code",
   "execution_count": null,
   "id": "1e0808c7",
   "metadata": {},
   "outputs": [],
   "source": []
  }
 ],
 "metadata": {
  "kernelspec": {
   "display_name": "Python 3 (ipykernel)",
   "language": "python",
   "name": "python3"
  },
  "language_info": {
   "codemirror_mode": {
    "name": "ipython",
    "version": 3
   },
   "file_extension": ".py",
   "mimetype": "text/x-python",
   "name": "python",
   "nbconvert_exporter": "python",
   "pygments_lexer": "ipython3",
   "version": "3.10.4"
  }
 },
 "nbformat": 4,
 "nbformat_minor": 5
}
